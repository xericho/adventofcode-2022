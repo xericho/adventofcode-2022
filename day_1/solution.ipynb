{
 "cells": [
  {
   "cell_type": "code",
   "execution_count": 9,
   "id": "fb3c760d-5560-4074-bdb0-2c4f92bef119",
   "metadata": {
    "tags": []
   },
   "outputs": [],
   "source": [
    "with open('input.txt', 'r') as f:\n",
    "    data = [s.replace('\\n', '') for s in f.readlines()]"
   ]
  },
  {
   "cell_type": "markdown",
   "id": "7fe1de35-a367-4019-b4b2-2bece282d058",
   "metadata": {},
   "source": [
    "# Part 1"
   ]
  },
  {
   "cell_type": "code",
   "execution_count": 23,
   "id": "90b16800-0436-4597-aff7-555c6a8ba128",
   "metadata": {},
   "outputs": [
    {
     "name": "stdout",
     "output_type": "stream",
     "text": [
      "Elf #130 has 65912 calories\n"
     ]
    }
   ],
   "source": [
    "cals = []\n",
    "idx = 1\n",
    "total_cals = 0\n",
    "for d in data:\n",
    "    if d == '':\n",
    "        cals.append([idx, total_cals])\n",
    "        idx += 1\n",
    "        total_cals = 0\n",
    "    else:\n",
    "        total_cals += int(d)\n",
    "ans1 = sorted(cals, key=lambda x: x[1], reverse=True)[0]\n",
    "print(f'Elf #{ans[0]} has {ans[1]} calories')"
   ]
  },
  {
   "cell_type": "markdown",
   "id": "083ad56a-3291-4704-b011-339016258ae1",
   "metadata": {},
   "source": [
    "# Part 2"
   ]
  },
  {
   "cell_type": "code",
   "execution_count": 24,
   "id": "17ed35ca-7479-4e07-bec6-076fe68cdf85",
   "metadata": {},
   "outputs": [
    {
     "name": "stdout",
     "output_type": "stream",
     "text": [
      "The top three Elves is carrying 195625 calories\n"
     ]
    }
   ],
   "source": [
    "ans2 = sum([c[1] for c in sorted(cals, key=lambda x: x[1], reverse=True)[:3]])\n",
    "print(f'The top three Elves is carrying {ans2} calories')"
   ]
  }
 ],
 "metadata": {
  "kernelspec": {
   "display_name": "Python 3 (ipykernel)",
   "language": "python",
   "name": "python3"
  },
  "language_info": {
   "codemirror_mode": {
    "name": "ipython",
    "version": 3
   },
   "file_extension": ".py",
   "mimetype": "text/x-python",
   "name": "python",
   "nbconvert_exporter": "python",
   "pygments_lexer": "ipython3",
   "version": "3.9.5"
  }
 },
 "nbformat": 4,
 "nbformat_minor": 5
}
