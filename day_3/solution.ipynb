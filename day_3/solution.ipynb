{
 "cells": [
  {
   "cell_type": "code",
   "execution_count": 1,
   "id": "e9f3aa31-2557-4159-8dee-f7417cb16ebf",
   "metadata": {},
   "outputs": [],
   "source": [
    "with open('input.txt', 'r') as f:\n",
    "    data = [s.strip() for s in f.readlines()]"
   ]
  },
  {
   "cell_type": "markdown",
   "id": "9991f5d6-d1a0-4b62-af77-5a275ac21712",
   "metadata": {},
   "source": [
    "# Part 1"
   ]
  },
  {
   "cell_type": "code",
   "execution_count": 34,
   "id": "02de4e11",
   "metadata": {},
   "outputs": [],
   "source": [
    "letters = 'abcdefghijklmnopqrstuvwxyz'\n",
    "scores = {**{l: ord(l)-96 for l in letters}, **{l: ord(l)-38 for l in letters.upper()}}"
   ]
  },
  {
   "cell_type": "code",
   "execution_count": 49,
   "id": "57db297c-9d91-4300-8608-070638f408b8",
   "metadata": {},
   "outputs": [
    {
     "name": "stdout",
     "output_type": "stream",
     "text": [
      "The sum of priorities is 8515\n"
     ]
    }
   ],
   "source": [
    "rucksacks = [[d[:len(d)//2], d[len(d)//2:]] for d in data]   # Split in half\n",
    "in_common = [set(c1).intersection(set(c2)).pop() for c1, c2 in rucksacks]  # Get common letter\n",
    "total = sum([scores[c] for c in in_common])\n",
    "print(f\"The sum of priorities is {total}\")"
   ]
  },
  {
   "cell_type": "markdown",
   "id": "88e21a42-e473-4628-8303-00d5c9f99b12",
   "metadata": {},
   "source": [
    "# Part 2"
   ]
  },
  {
   "cell_type": "code",
   "execution_count": 47,
   "id": "1d7f4e9e-fa76-4115-a902-2bbd013a6bfb",
   "metadata": {},
   "outputs": [
    {
     "name": "stdout",
     "output_type": "stream",
     "text": [
      "The group sum of priorities is 2434\n"
     ]
    }
   ],
   "source": [
    "three_groups = [data[i*3:i*3+3] for i in range(len(data)//3)]  # Split into groups of 3\n",
    "in_common_group = [set(c1).intersection(set(c2)).intersection(set(c3)).pop() for c1, c2, c3 in three_groups]\n",
    "new_total = sum([scores[c] for c in in_common_group])\n",
    "print(f\"The group sum of priorities is {new_total}\")"
   ]
  }
 ],
 "metadata": {
  "kernelspec": {
   "display_name": "Python 3.9.5 64-bit ('3.9.5')",
   "language": "python",
   "name": "python3"
  },
  "language_info": {
   "codemirror_mode": {
    "name": "ipython",
    "version": 3
   },
   "file_extension": ".py",
   "mimetype": "text/x-python",
   "name": "python",
   "nbconvert_exporter": "python",
   "pygments_lexer": "ipython3",
   "version": "3.9.5"
  },
  "vscode": {
   "interpreter": {
    "hash": "19b0065b8f8c18bfddacf3471c5a58d6df8742ced827b5431d17d90cab8fa4ad"
   }
  }
 },
 "nbformat": 4,
 "nbformat_minor": 5
}
