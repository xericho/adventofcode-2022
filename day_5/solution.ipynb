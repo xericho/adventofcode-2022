{
 "cells": [
  {
   "cell_type": "code",
   "execution_count": 32,
   "id": "34ae851c",
   "metadata": {},
   "outputs": [],
   "source": [
    "from pprint import pprint"
   ]
  },
  {
   "cell_type": "code",
   "execution_count": 41,
   "id": "e9f3aa31-2557-4159-8dee-f7417cb16ebf",
   "metadata": {},
   "outputs": [],
   "source": [
    "with open('input.txt', 'r') as f:\n",
    "    data = [s.strip().split(' ')[1::2] for s in f.readlines()][10:]"
   ]
  },
  {
   "cell_type": "markdown",
   "id": "9991f5d6-d1a0-4b62-af77-5a275ac21712",
   "metadata": {},
   "source": [
    "# Part 1"
   ]
  },
  {
   "cell_type": "code",
   "execution_count": 43,
   "id": "57db297c-9d91-4300-8608-070638f408b8",
   "metadata": {},
   "outputs": [
    {
     "name": "stdout",
     "output_type": "stream",
     "text": [
      "{1: 'JVQRVHDDNCLSZ',\n",
      " 2: 'QGCZHTWW',\n",
      " 3: 'H',\n",
      " 4: 'HV',\n",
      " 5: 'TDHF',\n",
      " 6: 'FLPGW',\n",
      " 7: 'BPJFQ',\n",
      " 8: 'FHRBBVHJZMSJGTPZW',\n",
      " 9: 'W'}\n",
      "The ending crate on top of each stack is ZWHVFWQWW.\n"
     ]
    }
   ],
   "source": [
    "stacks = {\n",
    "    1: 'QWPSZRHD',\n",
    "    2: 'VBRWQHF',\n",
    "    3: 'CVSH',\n",
    "    4: 'HFG',\n",
    "    5: 'PGJBZ',\n",
    "    6: 'QTJHWFL',\n",
    "    7: 'ZTWDLVJN',\n",
    "    8: 'DTZCJGHF',\n",
    "    9: 'WPVMBH',\n",
    "}\n",
    "for d in data:\n",
    "    # Convert to ints\n",
    "    num_creates, from_stack, to_stack = map(int, d)\n",
    "    # Get creates to move, remember to reverse list\n",
    "    crates = stacks[from_stack][-num_creates:][::-1]\n",
    "    # Remove creates from old stack\n",
    "    stacks[from_stack] = stacks[from_stack][:-num_creates]\n",
    "    # Add creates to new stack\n",
    "    stacks[to_stack] += crates\n",
    "ending_crates = ''.join([s[-1] for s in stacks.values()])\n",
    "pprint(stacks)\n",
    "print(f\"The ending crate on top of each stack is {ending_crates}.\")"
   ]
  },
  {
   "cell_type": "markdown",
   "id": "88e21a42-e473-4628-8303-00d5c9f99b12",
   "metadata": {},
   "source": [
    "# Part 2"
   ]
  },
  {
   "cell_type": "code",
   "execution_count": 44,
   "id": "57db297c-9d91-4300-8608-070638f408b8",
   "metadata": {},
   "outputs": [
    {
     "name": "stdout",
     "output_type": "stream",
     "text": [
      "{1: 'GSQDMJWWNBHBH',\n",
      " 2: 'HJRJTHJZ',\n",
      " 3: 'F',\n",
      " 4: 'LZ',\n",
      " 5: 'LHDC',\n",
      " 6: 'QHGGC',\n",
      " 7: 'QPVFW',\n",
      " 8: 'HFSWTTZZPVDVRBPFW',\n",
      " 9: 'V'}\n",
      "The ending crate on top of each stack is HZFZCCWWV.\n"
     ]
    }
   ],
   "source": [
    "stacks = {\n",
    "    1: 'QWPSZRHD',\n",
    "    2: 'VBRWQHF',\n",
    "    3: 'CVSH',\n",
    "    4: 'HFG',\n",
    "    5: 'PGJBZ',\n",
    "    6: 'QTJHWFL',\n",
    "    7: 'ZTWDLVJN',\n",
    "    8: 'DTZCJGHF',\n",
    "    9: 'WPVMBH',\n",
    "}\n",
    "for d in data:\n",
    "    # Convert to ints\n",
    "    num_creates, from_stack, to_stack = map(int, d)\n",
    "    # Get creates to move, keep order cuz CrateMover 9001\n",
    "    crates = stacks[from_stack][-num_creates:]\n",
    "    # Remove creates from old stack\n",
    "    stacks[from_stack] = stacks[from_stack][:-num_creates]\n",
    "    # Add creates to new stack\n",
    "    stacks[to_stack] += crates\n",
    "ending_crates = ''.join([s[-1] for s in stacks.values()])\n",
    "pprint(stacks)\n",
    "print(f\"The ending crate on top of each stack is {ending_crates}.\")"
   ]
  }
 ],
 "metadata": {
  "kernelspec": {
   "display_name": "Python 3.9.5 64-bit ('3.9.5')",
   "language": "python",
   "name": "python3"
  },
  "language_info": {
   "codemirror_mode": {
    "name": "ipython",
    "version": 3
   },
   "file_extension": ".py",
   "mimetype": "text/x-python",
   "name": "python",
   "nbconvert_exporter": "python",
   "pygments_lexer": "ipython3",
   "version": "3.9.5"
  },
  "vscode": {
   "interpreter": {
    "hash": "19b0065b8f8c18bfddacf3471c5a58d6df8742ced827b5431d17d90cab8fa4ad"
   }
  }
 },
 "nbformat": 4,
 "nbformat_minor": 5
}
