{
 "cells": [
  {
   "cell_type": "code",
   "execution_count": 1,
   "id": "3616e6df",
   "metadata": {},
   "outputs": [],
   "source": [
    "from collections import defaultdict"
   ]
  },
  {
   "cell_type": "code",
   "execution_count": 74,
   "id": "e9f3aa31-2557-4159-8dee-f7417cb16ebf",
   "metadata": {},
   "outputs": [],
   "source": [
    "with open('input.txt', 'r') as f:\n",
    "    data = [s.strip() for s in f.readlines()]"
   ]
  },
  {
   "cell_type": "markdown",
   "id": "9991f5d6-d1a0-4b62-af77-5a275ac21712",
   "metadata": {},
   "source": [
    "# Part 1"
   ]
  },
  {
   "cell_type": "code",
   "execution_count": 77,
   "id": "61800b98",
   "metadata": {},
   "outputs": [],
   "source": [
    "dir_sizes = defaultdict(int)\n",
    "prev_dirs = []\n",
    "cur_dir = None\n",
    "all_dirs = set()\n",
    "for i, line in enumerate(data):\n",
    "    if line.startswith('$ cd '):\n",
    "        dir = line.replace('$ cd ', '')\n",
    "        if dir == '..': \n",
    "            # Going up dir means that dir is completed (we know size)\n",
    "            completed_dir = '_'.join(prev_dirs) + f'_{cur_dir}' if prev_dirs else cur_dir\n",
    "            cur_dir = prev_dirs.pop()\n",
    "            save_name = '_'.join(prev_dirs) + f'_{cur_dir}' if prev_dirs else cur_dir\n",
    "            dir_sizes[save_name] += dir_sizes[completed_dir]\n",
    "            continue\n",
    "        else:\n",
    "            # Keep track of prev dirs\n",
    "            if cur_dir:\n",
    "                prev_dirs.append(cur_dir)\n",
    "            # Set current dir\n",
    "            cur_dir = dir\n",
    "            all_dirs.add(cur_dir)\n",
    "            continue\n",
    "\n",
    "    if line.startswith('$ ls'):\n",
    "        continue\n",
    "\n",
    "    # Add file size to current directory\n",
    "    file_type, name = line.split(' ')\n",
    "    if file_type != 'dir':\n",
    "        # DO NOT assume dir names are unique\n",
    "        save_name = '_'.join(prev_dirs) + f'_{cur_dir}' if prev_dirs else cur_dir\n",
    "        dir_sizes[save_name] += int(file_type)\n",
    "\n",
    "# Go back to root to finish\n",
    "for _ in range(len(prev_dirs)):\n",
    "    # Going up dir means that dir is completed (we know size)\n",
    "    completed_dir = '_'.join(prev_dirs) + f'_{cur_dir}' if prev_dirs else cur_dir\n",
    "    cur_dir = prev_dirs.pop()\n",
    "    save_name = '_'.join(prev_dirs) + f'_{cur_dir}' if prev_dirs else cur_dir\n",
    "    dir_sizes[save_name] += dir_sizes[completed_dir]"
   ]
  },
  {
   "cell_type": "code",
   "execution_count": 78,
   "id": "9dfb1156",
   "metadata": {},
   "outputs": [
    {
     "name": "stdout",
     "output_type": "stream",
     "text": [
      "The sum of the total sizes of directories at most 100000 is 1297683.\n"
     ]
    }
   ],
   "source": [
    "total = sum([size for size in dir_sizes.values() if size <= 100000])\n",
    "print(f\"The sum of the total sizes of directories at most 100000 is {total}.\")"
   ]
  },
  {
   "cell_type": "markdown",
   "id": "88e21a42-e473-4628-8303-00d5c9f99b12",
   "metadata": {},
   "source": [
    "# Part 2"
   ]
  },
  {
   "cell_type": "code",
   "execution_count": 88,
   "id": "41fc9d84",
   "metadata": {},
   "outputs": [
    {
     "name": "stdout",
     "output_type": "stream",
     "text": [
      "The total size of the directory is 5756764\n"
     ]
    }
   ],
   "source": [
    "total_disk_space = 70000000\n",
    "update_space = 30000000\n",
    "unused_space = total_disk_space - dir_sizes['/']\n",
    "required_space = update_space - unused_space\n",
    "for dir, size in sorted(dir_sizes.items(), key=lambda x: x[1]):\n",
    "    if size >= required_space:\n",
    "        print(f'The total size of the directory is {size}')\n",
    "        break"
   ]
  }
 ],
 "metadata": {
  "kernelspec": {
   "display_name": "Python 3.9.5 64-bit ('3.9.5')",
   "language": "python",
   "name": "python3"
  },
  "language_info": {
   "codemirror_mode": {
    "name": "ipython",
    "version": 3
   },
   "file_extension": ".py",
   "mimetype": "text/x-python",
   "name": "python",
   "nbconvert_exporter": "python",
   "pygments_lexer": "ipython3",
   "version": "3.9.5"
  },
  "vscode": {
   "interpreter": {
    "hash": "19b0065b8f8c18bfddacf3471c5a58d6df8742ced827b5431d17d90cab8fa4ad"
   }
  }
 },
 "nbformat": 4,
 "nbformat_minor": 5
}
