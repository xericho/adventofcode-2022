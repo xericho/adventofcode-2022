{
 "cells": [
  {
   "cell_type": "code",
   "execution_count": 43,
   "id": "e9f3aa31-2557-4159-8dee-f7417cb16ebf",
   "metadata": {},
   "outputs": [],
   "source": [
    "with open('input.txt', 'r') as f:\n",
    "    data = f.readline().strip()"
   ]
  },
  {
   "cell_type": "markdown",
   "id": "9991f5d6-d1a0-4b62-af77-5a275ac21712",
   "metadata": {},
   "source": [
    "# Part 1"
   ]
  },
  {
   "cell_type": "code",
   "execution_count": 38,
   "id": "57db297c-9d91-4300-8608-070638f408b8",
   "metadata": {},
   "outputs": [
    {
     "name": "stdout",
     "output_type": "stream",
     "text": [
      "The first start-of-packet marker is after character 1210.\n"
     ]
    }
   ],
   "source": [
    "for i in range(4, len(data)+1):\n",
    "    packet = data[i-4:i]  # rolling 4 chars\n",
    "    # Check for all unique\n",
    "    if len(set(packet)) == 4:\n",
    "        break\n",
    "print(f\"The first start-of-packet marker is after character {i}.\")"
   ]
  },
  {
   "cell_type": "markdown",
   "id": "88e21a42-e473-4628-8303-00d5c9f99b12",
   "metadata": {},
   "source": [
    "# Part 2"
   ]
  },
  {
   "cell_type": "code",
   "execution_count": 44,
   "id": "57db297c-9d91-4300-8608-070638f408b8",
   "metadata": {},
   "outputs": [
    {
     "name": "stdout",
     "output_type": "stream",
     "text": [
      "The first start-of-message marker is after character 3476.\n"
     ]
    }
   ],
   "source": [
    "for i in range(14, len(data)+1):\n",
    "    packet = data[i-14:i] \n",
    "    # Check for all unique\n",
    "    if len(set(packet)) == 14:\n",
    "        break\n",
    "print(f\"The first start-of-message marker is after character {i}.\")"
   ]
  }
 ],
 "metadata": {
  "kernelspec": {
   "display_name": "Python 3.9.5 64-bit ('3.9.5')",
   "language": "python",
   "name": "python3"
  },
  "language_info": {
   "codemirror_mode": {
    "name": "ipython",
    "version": 3
   },
   "file_extension": ".py",
   "mimetype": "text/x-python",
   "name": "python",
   "nbconvert_exporter": "python",
   "pygments_lexer": "ipython3",
   "version": "3.9.5"
  },
  "vscode": {
   "interpreter": {
    "hash": "19b0065b8f8c18bfddacf3471c5a58d6df8742ced827b5431d17d90cab8fa4ad"
   }
  }
 },
 "nbformat": 4,
 "nbformat_minor": 5
}
