{
 "cells": [
  {
   "cell_type": "code",
   "execution_count": 3,
   "id": "e9f3aa31-2557-4159-8dee-f7417cb16ebf",
   "metadata": {},
   "outputs": [],
   "source": [
    "with open('input.txt', 'r') as f:\n",
    "    data = [s.strip().split(',') for s in f.readlines()]"
   ]
  },
  {
   "cell_type": "markdown",
   "id": "9991f5d6-d1a0-4b62-af77-5a275ac21712",
   "metadata": {},
   "source": [
    "# Part 1"
   ]
  },
  {
   "cell_type": "code",
   "execution_count": 15,
   "id": "57db297c-9d91-4300-8608-070638f408b8",
   "metadata": {},
   "outputs": [
    {
     "name": "stdout",
     "output_type": "stream",
     "text": [
      "There are 459 assignment pairs where one range fully contain the other.\n"
     ]
    }
   ],
   "source": [
    "total_overlaps = 0\n",
    "for p1, p2 in data:\n",
    "    min_p1, max_p1 = map(int, p1.split('-'))\n",
    "    min_p2, max_p2 = map(int, p2.split('-'))\n",
    "    if min_p1 <= min_p2 and max_p1 >= max_p2:\n",
    "        total_overlaps += 1\n",
    "    elif min_p2 <= min_p1 and max_p2 >= max_p1:\n",
    "        total_overlaps += 1\n",
    "print(f\"There are {total_overlaps} assignment pairs where one range fully contain the other.\")"
   ]
  },
  {
   "cell_type": "markdown",
   "id": "88e21a42-e473-4628-8303-00d5c9f99b12",
   "metadata": {},
   "source": [
    "# Part 2"
   ]
  },
  {
   "cell_type": "code",
   "execution_count": 19,
   "id": "1d7f4e9e-fa76-4115-a902-2bbd013a6bfb",
   "metadata": {},
   "outputs": [
    {
     "name": "stdout",
     "output_type": "stream",
     "text": [
      "There are 779 assignment pairs where the ranges overlap.\n"
     ]
    }
   ],
   "source": [
    "all_overlaps = 0\n",
    "for p1, p2 in data:\n",
    "    min_p1, max_p1 = map(int, p1.split('-'))\n",
    "    min_p2, max_p2 = map(int, p2.split('-'))\n",
    "    if len(set(range(min_p1, max_p1+1)).intersection(set(range(min_p2, max_p2+1)))) > 0:\n",
    "        all_overlaps += 1\n",
    "print(f\"There are {all_overlaps} assignment pairs where the ranges overlap.\")"
   ]
  }
 ],
 "metadata": {
  "kernelspec": {
   "display_name": "Python 3.9.5 64-bit ('3.9.5')",
   "language": "python",
   "name": "python3"
  },
  "language_info": {
   "codemirror_mode": {
    "name": "ipython",
    "version": 3
   },
   "file_extension": ".py",
   "mimetype": "text/x-python",
   "name": "python",
   "nbconvert_exporter": "python",
   "pygments_lexer": "ipython3",
   "version": "3.9.5"
  },
  "vscode": {
   "interpreter": {
    "hash": "19b0065b8f8c18bfddacf3471c5a58d6df8742ced827b5431d17d90cab8fa4ad"
   }
  }
 },
 "nbformat": 4,
 "nbformat_minor": 5
}
