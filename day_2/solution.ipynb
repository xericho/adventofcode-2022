{
 "cells": [
  {
   "cell_type": "code",
   "execution_count": 8,
   "id": "914b594c-b104-4125-a620-9cc779806abe",
   "metadata": {},
   "outputs": [],
   "source": [
    "with open('input.txt', 'r') as f:\n",
    "    data = [s.strip() for s in f.readlines()]"
   ]
  },
  {
   "cell_type": "markdown",
   "id": "b9adb140-1961-418c-ae0d-1399222ac1f3",
   "metadata": {},
   "source": [
    "# Part 1"
   ]
  },
  {
   "cell_type": "code",
   "execution_count": 12,
   "id": "9b4ccd96-e44f-463c-9ced-533cc8e1f3a5",
   "metadata": {},
   "outputs": [
    {
     "name": "stdout",
     "output_type": "stream",
     "text": [
      "The total score is 10941\n"
     ]
    }
   ],
   "source": [
    "rules = {\n",
    "    'A X': 1+3,\n",
    "    'B X': 1+0,\n",
    "    'C X': 1+6,\n",
    "    'A Y': 2+6,\n",
    "    'B Y': 2+3,\n",
    "    'C Y': 2+0,\n",
    "    'A Z': 3+0,\n",
    "    'B Z': 3+6,\n",
    "    'C Z': 3+3,\n",
    "}\n",
    "total = sum([rules[d] for d in data])\n",
    "print(f'The total score is {total}')"
   ]
  },
  {
   "cell_type": "markdown",
   "id": "e90ed0cf-67b4-4ff6-a357-e4fb121df122",
   "metadata": {},
   "source": [
    "# Part 2"
   ]
  },
  {
   "cell_type": "code",
   "execution_count": 18,
   "id": "a9da103c-4fe1-4653-9ff3-f6959c4d030a",
   "metadata": {},
   "outputs": [
    {
     "name": "stdout",
     "output_type": "stream",
     "text": [
      "The new total score is 13071\n"
     ]
    }
   ],
   "source": [
    "new_rules = {\n",
    "    'A X': 3+0,\n",
    "    'B X': 1+0,\n",
    "    'C X': 2+0,\n",
    "    'A Y': 1+3,\n",
    "    'B Y': 2+3,\n",
    "    'C Y': 3+3,\n",
    "    'A Z': 2+6,\n",
    "    'B Z': 3+6,\n",
    "    'C Z': 1+6,\n",
    "}\n",
    "new_total = sum([new_rules[d] for d in data])\n",
    "print(f'The new total score is {new_total}')"
   ]
  }
 ],
 "metadata": {
  "kernelspec": {
   "display_name": "Python 3 (ipykernel)",
   "language": "python",
   "name": "python3"
  },
  "language_info": {
   "codemirror_mode": {
    "name": "ipython",
    "version": 3
   },
   "file_extension": ".py",
   "mimetype": "text/x-python",
   "name": "python",
   "nbconvert_exporter": "python",
   "pygments_lexer": "ipython3",
   "version": "3.9.5"
  }
 },
 "nbformat": 4,
 "nbformat_minor": 5
}
